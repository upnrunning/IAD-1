{
 "cells": [
  {
   "cell_type": "markdown",
   "metadata": {},
   "source": [
    "# Домашнее задание 1 (NumPy, Pandas, Matplotlib)\n",
    "\n",
    "## Общая информация\n",
    "**Дата выдачи**: 31.01.2018\n",
    "\n",
    "**Срок сдачи**: 23:59 13.02.2018\n",
    "\n",
    "**О задании**\n",
    "\n",
    "Домашнее задание №1 ориентировано на более тесное знакомство с модулями NumPy, Pandas и Matplotlib путём решения набора задач. Целью задания является редактирование данного ipython notebook'a (в части блоков с кодом на python) таким образом, чтобы были реализованы указанные в задании функции.\n",
    "\n",
    "**Оценивание и штрафы**\n",
    "\n",
    "Каждая из задач имеет определенную «стоимость» (указана в скобках около задачи), оценка за задание выставляется следующим образом:\n",
    "Оценка за задание = Сумма баллов за решенные задачи/3\n",
    "\n",
    "Таким образом, максимально допустимая оценка за задание — 10 баллов.\n",
    "\n",
    "За сдачу задания позже срока на итоговую оценку за задание накладывается штраф в размере 0.2 балла в день, но получить отрицательное число баллов нельзя. При выставлении неполного балла за задание в связи с наличием ошибок на усмотрение проверяющего предусмотрена возможность исправить задание на указанных в ответном письме условиях.\n",
    "\n",
    "Задание выполняется **САМОСТОЯТЕЛЬНО**. «Похожие» решения считаются плагиатом и все задействованные студенты (в том числе те, у кого списали) не могут получить за него больше 0 баллов.\n",
    "\n",
    "**Формат сдачи**\n",
    "\n",
    "Для сдачи задания переименуйте получившийся файл \\*.ipynb в соответствии со следующим форматом: HW1_Username.ipynb, где Username — Ваша фамилия на латинице. Далее отправьте этот файл на почту курса ( hse.minor.dm+<номер группы>@gmail.com, указав в теме письма \"[ИАД-1] Задание N, ФИО\")"
   ]
  },
  {
   "cell_type": "markdown",
   "metadata": {},
   "source": [
    "\n",
    "\n",
    "## Инструкция по установке на Windows:\n",
    "\n",
    "Для установки всех необходимых библиотек на windows рекомендуется поставить дистрибутив Anaconda. Для этого нужно\n",
    "просто скачать необходимую версия с официального сайта https://www.continuum.io/downloads (мы рекомендуем ставить\n",
    "python версии 3.x). После установки дистрибутива необходимо запустить командную строку (для этого можно нажать win+R и набрать команду cmd). Затем, для запуска ipython notebook'а достаточно просто написать ipython notebook в\n",
    "командной строке, и у вашем браузере откроется стандартная страничка, которую вы уже много раз видели, используя\n",
    "виртуальную машину.\n",
    "\n",
    "## Инструкция по установке на Linux/Mac OS:\n",
    "\n",
    "Под Linux и Mac OS также доступен дистрибутив Anaconda, который можно скачать с https://www.continuum.io/downloads.\n",
    "Дальше опять же вам нужно открыть терминал и набрать там команду ipython notebook (либо возможно ipython3\n",
    "notebook).\n",
    "\n",
    "Если же вам по каким-либо причинам не хочется ставить Anaconda (например, вы не хотите, чтобы у вас появлялась еще\n",
    "одна версия python и были возможные конфликты путей, или вы просто чувствуете в себе Силу и хотите все поставить\n",
    "сами), то можно установить все необходимые библиотеки напрямую. Для этого выполните в терминале следующие две\n",
    "команды:\n",
    "\n",
    "```bash\n",
    "sudo apt-get install -y build-essential python3-numpy python3-scipy python3-matplotlib ipython3 \n",
    "ipython3-notebook python3-pandas python3-sympy python3-nose python3-pip swig\n",
    "\n",
    "sudo pip3 install cython scikit-image scikit-learn jupyter\n",
    "```\n",
    "Для Mac OS в первой команде нужно заменить apt-get на brew (если у вас стоит пакетный менеджер homebrew, если нет,\n",
    "его нужно предварительно установить). Если вы хотите использовать python версии 2.x, то во всех командах выше\n",
    "необходимо убрать цифру 3. То есть, например, писать не python3-numpy, а python-numpy, или не pip3 install, а pip\n",
    "install.\n",
    "    \n",
    "Также, можно воспользоваться инструкциями, описанными здесь:\n",
    "http://www.machinelearning.ru/wiki/images/1/10/MMP_Praktikum_317_2014a_Python.pdf\n",
    "\n",
    "Установка Python и всех необходимых модулей не является обязательной для сдачи данного задания."
   ]
  },
  {
   "cell_type": "code",
   "execution_count": 1,
   "metadata": {
    "collapsed": true
   },
   "outputs": [],
   "source": [
    "import numpy as np\n",
    "import pandas as pd\n",
    "from matplotlib import pyplot as plt\n",
    "%matplotlib inline"
   ]
  },
  {
   "cell_type": "markdown",
   "metadata": {},
   "source": [
    "## NumPy\n",
    "\n",
    "При решении задач запрещено использовать циклы. Обратите внимание на функции и методы np.max, np.min, np.arange, np.hstack, np.roll, np.random.uniform, np.random.rand, np.newaxis."
   ]
  },
  {
   "cell_type": "markdown",
   "metadata": {},
   "source": [
    "#### 1. (1 балл) Написать функцию, которая принимает на вход два целочисленных массива одинаковой длины, и возвращает минимальный и максимальный из тех элементов этих двух массивов у которых совпадает и позиция и значение (то есть из всех элементов $\\{a[i]: a[i] = b[i]\\}$)\n",
    "\n",
    "    Например, для a = np.array([4, 2, 6, 3]) и b = np.array([4, 3, 6, -3]) ответом является кортеж (4, 6)."
   ]
  },
  {
   "cell_type": "code",
   "execution_count": 2,
   "metadata": {
    "collapsed": true
   },
   "outputs": [],
   "source": [
    "def minMaxEqual(a, b):\n",
    "    try: \n",
    "        return (np.min(a[a==b]), np.max(a[a==b]))\n",
    "    except ValueError:\n",
    "        return 'No similar numbers'"
   ]
  },
  {
   "cell_type": "markdown",
   "metadata": {},
   "source": [
    "#### 2. (2 балла) Дан numpy-вектор v длины n+1, который задает полином степени n. Найти вторую производную этого полинома (Например np.array([3, 0, 7, 1]) соответствует полиному 3+7x^2+x^3)\n",
    "\n",
    "    Для вектора из примера функция должна будет выдавать np.array([14, 6])"
   ]
  },
  {
   "cell_type": "code",
   "execution_count": 3,
   "metadata": {
    "collapsed": true
   },
   "outputs": [],
   "source": [
    "def second_derivative(v):\n",
    "    powers = range(len(v)) # степени, которые умножаются на коэффициент после взятия производной \n",
    "    v = np.delete(powers * v , 0) # уменьшаем степень полинома на 1\n",
    "    if len(v)>=2:\n",
    "        powers = range(len(v))\n",
    "        v = np.delete(powers * v , 0)\n",
    "    else:\n",
    "        return np.array([0])\n",
    "    return v"
   ]
  },
  {
   "cell_type": "markdown",
   "metadata": {},
   "source": [
    "#### 3. (1 балл) Дана матрица X и два вектора одинаковой длины i и j. Написать функцию, которая возвращает вектор np.array, состоящий из последовательности элементов $[X[i[0], j[0]], X[i[1], j[1]], ..., X[i[N-1], j[N-1]]]$. "
   ]
  },
  {
   "cell_type": "code",
   "execution_count": 4,
   "metadata": {
    "collapsed": true
   },
   "outputs": [],
   "source": [
    "def constructArray(X, i, j):\n",
    "    return X[(i,j)]"
   ]
  },
  {
   "cell_type": "markdown",
   "metadata": {},
   "source": [
    "#### 4. (2 балла) Написать функцию, возвращающую максимальный элемент в векторе x среди элементов, перед которыми стоит нулевой.\n",
    "\n",
    "    Для x = np.array([6, 2, 0, 3, 0, 0, 5, 7, 0]) ответом является 5."
   ]
  },
  {
   "cell_type": "code",
   "execution_count": 5,
   "metadata": {
    "collapsed": true,
    "scrolled": true
   },
   "outputs": [],
   "source": [
    "def prevZeroMax(x):\n",
    "    zero_indices = np.where(x==0)[0]\n",
    "    if zero_indices[-1] == len(x) - 1:\n",
    "        zero_indices = np.delete(zero_indices, -1)\n",
    "    return np.max(x[zero_indices+1])"
   ]
  },
  {
   "cell_type": "markdown",
   "metadata": {},
   "source": [
    "#### 5. (2 балла) Напишите функцию, которая принимает параметры lims: ndarray размера 2, k: float, b: float, n: int, noise_level: float и возвращает выборку из n объектов, сгенерированную по правилу y = kx + b + U[-noise_level; noise_level]. x генерируется равномерно из U[lims[0]; lims[1]] (U[a, b] — равномерное распределение на [a, b]). Функция должна возвращать кортеж, первым элементом которого будет массив x, и вторым элементом массив y — значения функции в точках этого массива."
   ]
  },
  {
   "cell_type": "code",
   "execution_count": 6,
   "metadata": {
    "collapsed": true
   },
   "outputs": [],
   "source": [
    "def gen_data(lims, k, b, n, noise_level): #в расчете на то, что lims - np.array, не очень понял зачем нужный многомерный array,\n",
    "                                          #как указано в задании\n",
    "    x = np.random.uniform(lims[0],lims[1], n)\n",
    "    noise = np.random.uniform(-noise_level, noise_level,n) \n",
    "    y = k * x + b + noise\n",
    "    return (x,y)"
   ]
  },
  {
   "cell_type": "markdown",
   "metadata": {},
   "source": [
    "#### 6. (2 балла) Напишите функцию, которая вычисляет следующее матричное произведение: $x * x.T + a * I + b$. Здесь x и b — массивы np.array размерности N (одномерные, считаются вектор-столбцом). a — число, I — матрица, состоящая единиц на главной диагонали и нулей в остальных местах (единичная матрица). Сложение вектора b с матрицей x * x.T должно осуществляться по столбцам (вектор b должен прибавиться к каждому столбцу матрицы независимо).\n",
    "\n",
    "    Например, для x = np.array([[1],[2],[3]]), b = np.array([[0], [-2], [1]]), a = 4.5 функция должна выдавать \n",
    "    np.array([[5.5, 2.0, 3.0], [0.0, 6.5, 4.0], [4.0, 7.0, 14.5]])\n",
    "$x*x.T$ - матричное произведение"
   ]
  },
  {
   "cell_type": "code",
   "execution_count": 7,
   "metadata": {
    "collapsed": true
   },
   "outputs": [],
   "source": [
    "def calc_value(x, b, a):\n",
    "    return x.dot(x.T) + a * np.eye(x.shape[0]) + b"
   ]
  },
  {
   "cell_type": "markdown",
   "metadata": {},
   "source": [
    "## Pandas\n",
    "\n",
    "\n",
    "Вам предстоит ответить на ряд вопросов о пассажирах Титаника.\n",
    "\n",
    "Данные: http://www.machinelearning.ru/wiki/images/3/32/Titanic.zip\n",
    "\n",
    "Описание датасета: https://www.kaggle.com/c/titanic/data\n",
    "\n",
    "Обратите внимание на функции и методы pd.read_csv, pd.DataFrame{ .head, .shape, .groupby, .fillna }, pd.Series{ .min, .max, .mean, .shape, .std, .corr }"
   ]
  },
  {
   "cell_type": "markdown",
   "metadata": {},
   "source": [
    "#### 0. (0.5 балла) Загрузите данные в DataFrame и выведите его. Также напечатайте количество объектов и количество признаков (используйте функцию print):"
   ]
  },
  {
   "cell_type": "code",
   "execution_count": 8,
   "metadata": {},
   "outputs": [
    {
     "name": "stdout",
     "output_type": "stream",
     "text": [
      "Количество объектов:  891 \n",
      "Количество признаков:  12\n"
     ]
    }
   ],
   "source": [
    "data = pd.read_csv('train.csv')\n",
    "print('Количество объектов: ', data.shape[0], '\\nКоличество признаков: ', len(data.columns))"
   ]
  },
  {
   "cell_type": "markdown",
   "metadata": {},
   "source": [
    "#### 1. (0.5 балла) Какие встречаются типы признаков? Придумайте постановку трех задач, которые можно решать, используя полученные данные: классификации, регрессии и кластеризации."
   ]
  },
  {
   "cell_type": "markdown",
   "metadata": {},
   "source": [
    "Признаки бывают категориальные (которые, в свою очередь, часто разделяют на бинарные и множественные) и количественные. Признаки первого типа описывают дискретные и счетные величины, т.е ими пользуются в тех случаях, когда категории можно сосчитать и пронумеровать целыми числами (например, категориальным признаком может быть пол - мужской/женский). Второй тип признаков описывает величины, которые принимают значения на всей числовой оси. К примеру, это может быть температура в определенный момент дня.\n",
    "\n",
    "Задачи, которые можно решать:\n",
    "\n",
    "* Классификация - Предсказать, выжил человек, или нет.\n",
    "* Регрессия - Предсказать, каков возраст человека с указанными данными.\n",
    "* Кластеризация - выделить кластеры среди выживших (к примеру, богатый человек без детей, многодетная женщина и т.д)"
   ]
  },
  {
   "cell_type": "markdown",
   "metadata": {},
   "source": [
    "#### 2. (0.5 балла) Сохраните в переменную firstclass_num количество пассажиров, которые ехали первым классом, и выведите ее с помощью функции print()."
   ]
  },
  {
   "cell_type": "code",
   "execution_count": 9,
   "metadata": {},
   "outputs": [
    {
     "name": "stdout",
     "output_type": "stream",
     "text": [
      "216\n"
     ]
    }
   ],
   "source": [
    "firstclass_num = data[data['Pclass'] == 1].shape[0]\n",
    "print(firstclass_num)"
   ]
  },
  {
   "cell_type": "markdown",
   "metadata": {},
   "source": [
    "#### 3. (0.5 балла) Выведите минимальный, максимальный и средний возраст пассажиров."
   ]
  },
  {
   "cell_type": "code",
   "execution_count": 10,
   "metadata": {},
   "outputs": [
    {
     "name": "stdout",
     "output_type": "stream",
     "text": [
      "Min: 0.42, Max: 80.0, Mean: 29.69911764705882\n"
     ]
    }
   ],
   "source": [
    "print(f\"Min: {data['Age'].min()}, Max: {data['Age'].max()}, Mean: {data['Age'].mean()}\")"
   ]
  },
  {
   "cell_type": "markdown",
   "metadata": {},
   "source": [
    "#### 4. (1 балл) Напечатайте стандартное отклонение цены билетов на Титаник"
   ]
  },
  {
   "cell_type": "code",
   "execution_count": 11,
   "metadata": {},
   "outputs": [
    {
     "name": "stdout",
     "output_type": "stream",
     "text": [
      "49.693428597180905\n"
     ]
    }
   ],
   "source": [
    "print(data['Fare'].std())"
   ]
  },
  {
   "cell_type": "markdown",
   "metadata": {},
   "source": [
    "#### 5. (1 балл) Посчитайте коэффициент корреляции ценой на билет и возрастом пассажиров."
   ]
  },
  {
   "cell_type": "code",
   "execution_count": 12,
   "metadata": {},
   "outputs": [
    {
     "name": "stdout",
     "output_type": "stream",
     "text": [
      "0.096067\n"
     ]
    },
    {
     "data": {
      "text/html": [
       "<div>\n",
       "<style>\n",
       "    .dataframe thead tr:only-child th {\n",
       "        text-align: right;\n",
       "    }\n",
       "\n",
       "    .dataframe thead th {\n",
       "        text-align: left;\n",
       "    }\n",
       "\n",
       "    .dataframe tbody tr th {\n",
       "        vertical-align: top;\n",
       "    }\n",
       "</style>\n",
       "<table border=\"1\" class=\"dataframe\">\n",
       "  <thead>\n",
       "    <tr style=\"text-align: right;\">\n",
       "      <th></th>\n",
       "      <th>Fare</th>\n",
       "      <th>Age</th>\n",
       "    </tr>\n",
       "  </thead>\n",
       "  <tbody>\n",
       "    <tr>\n",
       "      <th>Fare</th>\n",
       "      <td>1.000000</td>\n",
       "      <td>0.096067</td>\n",
       "    </tr>\n",
       "    <tr>\n",
       "      <th>Age</th>\n",
       "      <td>0.096067</td>\n",
       "      <td>1.000000</td>\n",
       "    </tr>\n",
       "  </tbody>\n",
       "</table>\n",
       "</div>"
      ],
      "text/plain": [
       "          Fare       Age\n",
       "Fare  1.000000  0.096067\n",
       "Age   0.096067  1.000000"
      ]
     },
     "execution_count": 12,
     "metadata": {},
     "output_type": "execute_result"
    }
   ],
   "source": [
    "print(0.096067)\n",
    "data[['Fare', 'Age']].corr()"
   ]
  },
  {
   "cell_type": "markdown",
   "metadata": {},
   "source": [
    "#### 6. (2 балла) Создайте DataFrame в котором будет находиться средний возраст выживших пассажиров по каждому классу. Ваш код должен быть масштабируемым (то есть, должен работать при добавлении новых классов к исходному DataFrame'у)."
   ]
  },
  {
   "cell_type": "code",
   "execution_count": 13,
   "metadata": {},
   "outputs": [
    {
     "name": "stdout",
     "output_type": "stream",
     "text": [
      "              Age\n",
      "Pclass           \n",
      "1       35.368197\n",
      "2       25.901566\n",
      "3       20.646118\n"
     ]
    }
   ],
   "source": [
    "aver_age = pd.DataFrame(data[data['Survived'] ==1 ].groupby('Pclass')['Age'].mean())\n",
    "print(aver_age)"
   ]
  },
  {
   "cell_type": "markdown",
   "metadata": {},
   "source": [
    "#### 7. (2 балла) Посчитайте какой части пассажиров удалось выжить. Посчитайте отношение количества выживших мужчин к количеству выживших женщинам."
   ]
  },
  {
   "cell_type": "code",
   "execution_count": 14,
   "metadata": {
    "scrolled": true
   },
   "outputs": [
    {
     "name": "stdout",
     "output_type": "stream",
     "text": [
      "Доля выживших:  0.3838383838383838\n",
      "Отношение кол-ва выживших мужчин к женщинам:  0.4678111587982833\n"
     ]
    }
   ],
   "source": [
    "women_to_men = len(data[(data['Survived'] == 1) & (data['Sex'] == 'male')]) / \\\n",
    "len(data[(data['Survived'] == 1) & (data['Sex'] == 'female')])\n",
    "\n",
    "\n",
    "print('Доля выживших: ', data['Survived'].mean())\n",
    "print('Отношение кол-ва выживших мужчин к женщинам: ', women_to_men)"
   ]
  },
  {
   "cell_type": "markdown",
   "metadata": {},
   "source": [
    "#### 8. (1 балл) Верно ли, что чаще выживали пассажиры с более дорогими билетами? Кратко опишите в комментариях к коду, какие величины вы хотите посчитать, чтобы ответить на этот вопрос."
   ]
  },
  {
   "cell_type": "code",
   "execution_count": 15,
   "metadata": {},
   "outputs": [
    {
     "name": "stdout",
     "output_type": "stream",
     "text": [
      "Pclass\n",
      "1    0.629630\n",
      "2    0.472826\n",
      "3    0.242363\n",
      "Name: Survived, dtype: float64\n"
     ]
    }
   ],
   "source": [
    "# Я хочу посчитать среднее значение признака Survived в каждом классе билетов.\n",
    "# Признак бинарный => среднее покажет долю выживших\n",
    "print(data.groupby('Pclass')['Survived'].mean())"
   ]
  },
  {
   "cell_type": "markdown",
   "metadata": {},
   "source": [
    "## **Верно**"
   ]
  },
  {
   "cell_type": "markdown",
   "metadata": {},
   "source": [
    "#### 9. (1 балл) Замените все NaN в колонке Age на средние значения возраста по всем пассажирам."
   ]
  },
  {
   "cell_type": "code",
   "execution_count": 16,
   "metadata": {
    "collapsed": true
   },
   "outputs": [],
   "source": [
    "data['Age'] = data['Age'].fillna(data['Age'].mean())"
   ]
  },
  {
   "cell_type": "markdown",
   "metadata": {},
   "source": [
    "## Matplotlib\n",
    "\n",
    "Обратите внимание, что за отсутствие названий графиков и подписей к осям могут снижаться баллы! Вообще, все картинки должны быть самодостаточны и визуально удобны для восприятия, так чтобы не нужно было смотреть ваш код или знать задание, чтобы понятно было, что на них изображено.\n",
    "\n",
    "Обратите внимание на функции и методы plt.plot, plt.scatter, plt.legend, plt.title, plt.xlabel, plt.ylabel, plt.fill_between"
   ]
  },
  {
   "cell_type": "markdown",
   "metadata": {
    "collapsed": true
   },
   "source": [
    "#### 1. (3 балла) Используя функцию из задания №5 по numpy (gen_data), отобразите на графике сгенерированную выборку, а также настоящую прямую из которой выборка была получена. Добавьте на этот график прямую, которая приближает выборку, обучив для этого простейшую линейную регрессию. Чтобы получить параметры данной прямой, можно выполнить следующий код:\n",
    "\n",
    "        from sklearn.linear_model import LinearRegression as LR\n",
    "\n",
    "        data_x, data_y = gen_data(...)\n",
    "        regr = LR()\n",
    "        regr.fit(data_x, data_y)\n",
    "        k_learned, b_learned = regr.coef_, regr.intercept_\n",
    "        "
   ]
  },
  {
   "cell_type": "code",
   "execution_count": 17,
   "metadata": {},
   "outputs": [
    {
     "data": {
      "text/plain": [
       "LinearRegression(copy_X=True, fit_intercept=True, n_jobs=1, normalize=False)"
      ]
     },
     "execution_count": 17,
     "metadata": {},
     "output_type": "execute_result"
    }
   ],
   "source": [
    "from sklearn.linear_model import LinearRegression as LR\n",
    "\n",
    "lims = np.array([-4, 4])\n",
    "k = 2\n",
    "b = 3\n",
    "n = 50\n",
    "noise_level = 4\n",
    "\n",
    "data_x, data_y = gen_data(lims,k,b,n,noise_level)\n",
    "regr = LR()\n",
    "regr.fit(data_x.reshape(-1,1), data_y)\n"
   ]
  },
  {
   "cell_type": "code",
   "execution_count": 18,
   "metadata": {},
   "outputs": [
    {
     "data": {
      "image/png": "[encoded data removed]",
      "text/plain": [
       "<matplotlib.figure.Figure at 0x229add6d0b8>"
      ]
     },
     "metadata": {},
     "output_type": "display_data"
    }
   ],
   "source": [
    "k_learned, b_learned = regr.coef_, regr.intercept_\n",
    "x = np.linspace(-4,4,50)\n",
    "y = k*x + b\n",
    "y_learned = k_learned * x + b_learned\n",
    "\n",
    "plt.figure(figsize=(6,4))\n",
    "plt.scatter(data_x, data_y)\n",
    "plt.plot(x, y, label = 'Real line')\n",
    "plt.plot(x, y_learned, label = 'Fitted line')\n",
    "\n",
    "plt.xlabel('$x$')\n",
    "plt.ylabel('$y = kx + b + $random noise')\n",
    "plt.title('Fitting linear regression to data')\n",
    "plt.legend();"
   ]
  },
  {
   "cell_type": "markdown",
   "metadata": {},
   "source": [
    "#### 2. (2 балла) Проверьте визуально полученную при выполнении задания №5 по pandas информацию о корреляции между ценой на билет и возрастом пассажира. Для этого предлагается отобразить все данные, откладывая на одной оси возраст пассажира, а на другой цену билета. Каждая точка должна быть визуально оботражена в виде треугольника зеленого цвета, направленного вниз. Сделайте возможность регулировать величину маркера (например, пусть она передается в качестве параметра в функцию, которая рисует график). Обратите внимание на параметры \"marker\", \"s\" и \"c\" функции plt.scatter."
   ]
  },
  {
   "cell_type": "code",
   "execution_count": 19,
   "metadata": {},
   "outputs": [
    {
     "data": {
      "text/plain": [
       "Text(0.5,1,'Correlation between age and fare')"
      ]
     },
     "execution_count": 19,
     "metadata": {},
     "output_type": "execute_result"
    },
    {
     "data": {
      "image/png": "[encoded data removed]",
      "text/plain": [
       "<matplotlib.figure.Figure at 0x229abf921d0>"
      ]
     },
     "metadata": {},
     "output_type": "display_data"
    }
   ],
   "source": [
    "marker_size = 50\n",
    "\n",
    "plt.scatter(data['Age'], data['Fare'], c='darkgreen', s = marker_size, marker='v')\n",
    "\n",
    "plt.xlabel('Age of a passenger')\n",
    "plt.ylabel('Price of a ticket')\n",
    "plt.title('Correlation between age and fare')"
   ]
  },
  {
   "cell_type": "markdown",
   "metadata": {},
   "source": [
    "#### 3. (3 балла) Отобразите гистограмму распределения возрастов для каждого класса пассажиров (здесь опять нужно использовать данные из заданий по pandas). В результате вы должны получить три гистограммы, которые необходимо отобразить рядом друг с другом используя функцию plt.subplots. Каждая гистограмма должна быть нормирована. Обратите внимание на параметры figsize, sharey, sharex функции plt.subplots. Также полезными могут оказаться параметры bins, normed функции plt.hist"
   ]
  },
  {
   "cell_type": "code",
   "execution_count": 20,
   "metadata": {},
   "outputs": [
    {
     "data": {
      "image/png": "[encoded data removed]",
      "text/plain": [
       "<matplotlib.figure.Figure at 0x229ae1724e0>"
      ]
     },
     "metadata": {},
     "output_type": "display_data"
    }
   ],
   "source": [
    "fig, (ax1, ax2, ax3) = plt.subplots(1, 3, sharey=True, sharex = True, figsize=(15,6));\n",
    "ax1.set_xticks(np.arange(0,90,10))\n",
    "ax1.set_xlabel('Age')\n",
    "ax2.set_xlabel('Age')\n",
    "ax3.set_xlabel('Age')\n",
    "ax1.set_ylabel('Scaled number of passengers')\n",
    "ax1.hist(data[data['Pclass'] == 1]['Age'], normed=True, bins=30, edgecolor='black');\n",
    "ax2.hist(data[data['Pclass'] == 2]['Age'], normed=True, bins=30, edgecolor='black');\n",
    "ax3.hist(data[data['Pclass'] == 3]['Age'], normed=True, bins=30, edgecolor='black');\n"
   ]
  },
  {
   "cell_type": "markdown",
   "metadata": {},
   "source": [
    "#### 4. (2 балла) Используя следующую функцию для генерации выборки, отобразите на графике синим цветом функцию y(x), а также ее доверительный интервал в виде закрашенной зеленым цветом области от y[i] - error[i] до y[i] + error[i].\n",
    "\n",
    "        def gen_uncertain_data():\n",
    "            x = np.linspace(0, 30, 100)\n",
    "            y = np.sin(x/6*np.pi) + np.random.normal(0, 0.02, size=x.shape)\n",
    "            error = np.random.normal(0.1, 0.02, size=y.shape)\n",
    "            return x, y, error\n"
   ]
  },
  {
   "cell_type": "code",
   "execution_count": 21,
   "metadata": {
    "collapsed": true
   },
   "outputs": [],
   "source": [
    "def gen_uncertain_data():\n",
    "        x = np.linspace(0, 30, 100)\n",
    "        y = np.sin(x/6*np.pi) + np.random.normal(0, 0.02, size=x.shape)\n",
    "        error = np.random.normal(0.1, 0.02, size=y.shape)\n",
    "        return x, y, error"
   ]
  },
  {
   "cell_type": "code",
   "execution_count": 22,
   "metadata": {},
   "outputs": [
    {
     "data": {
      "text/plain": [
       "<matplotlib.collections.PolyCollection at 0x229ae1723c8>"
      ]
     },
     "execution_count": 22,
     "metadata": {},
     "output_type": "execute_result"
    },
    {
     "data": {
      "image/png": "[encoded data removed]",
      "text/plain": [
       "<matplotlib.figure.Figure at 0x229ae19cdd8>"
      ]
     },
     "metadata": {},
     "output_type": "display_data"
    }
   ],
   "source": [
    "x, y, error = gen_uncertain_data()\n",
    "plt.plot(x,y)\n",
    "plt.xlabel('$x$')\n",
    "plt.ylabel('function $y$ with confidence interval')\n",
    "plt.fill_between(x, y+error, y-error, color='green')"
   ]
  }
 ],
 "metadata": {
  "kernelspec": {
   "display_name": "Python 3",
   "language": "python",
   "name": "python3"
  },
  "language_info": {
   "codemirror_mode": {
    "name": "ipython",
    "version": 3
   },
   "file_extension": ".py",
   "mimetype": "text/x-python",
   "name": "python",
   "nbconvert_exporter": "python",
   "pygments_lexer": "ipython3",
   "version": "3.6.3"
  }
 },
 "nbformat": 4,
 "nbformat_minor": 1
}
